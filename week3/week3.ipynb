{
 "cells": [
  {
   "cell_type": "code",
   "execution_count": 1,
   "id": "b7dcac2d-c06a-4576-83ea-987cc1489aba",
   "metadata": {},
   "outputs": [],
   "source": [
    "#import\n",
    "from IPython.display import Image\n",
    "%matplotlib inline\n",
    "import pandas as pd\n",
    "from io import StringIO\n",
    "import sys"
   ]
  },
  {
   "cell_type": "code",
   "execution_count": 2,
   "id": "8de03d4c-3ead-4890-a890-20dddf62c7ae",
   "metadata": {},
   "outputs": [],
   "source": [
    "csv_data = \\\n",
    "'''A,B,C,D\n",
    "1.0,2.0,3.0,4.0\n",
    "5.0,6.0,,8.0\n",
    "10.0,11.0,12.0,'''"
   ]
  },
  {
   "cell_type": "code",
   "execution_count": 3,
   "id": "ea066b81-2272-47a8-8b01-d4ba2526776f",
   "metadata": {},
   "outputs": [],
   "source": [
    "df = pd.read_csv(StringIO(csv_data))"
   ]
  },
  {
   "cell_type": "code",
   "execution_count": 4,
   "id": "67cc865f-03bc-42af-a430-901e129dcb43",
   "metadata": {},
   "outputs": [
    {
     "data": {
      "text/html": [
       "<div>\n",
       "<style scoped>\n",
       "    .dataframe tbody tr th:only-of-type {\n",
       "        vertical-align: middle;\n",
       "    }\n",
       "\n",
       "    .dataframe tbody tr th {\n",
       "        vertical-align: top;\n",
       "    }\n",
       "\n",
       "    .dataframe thead th {\n",
       "        text-align: right;\n",
       "    }\n",
       "</style>\n",
       "<table border=\"1\" class=\"dataframe\">\n",
       "  <thead>\n",
       "    <tr style=\"text-align: right;\">\n",
       "      <th></th>\n",
       "      <th>A</th>\n",
       "      <th>B</th>\n",
       "      <th>C</th>\n",
       "      <th>D</th>\n",
       "    </tr>\n",
       "  </thead>\n",
       "  <tbody>\n",
       "    <tr>\n",
       "      <th>0</th>\n",
       "      <td>1.0</td>\n",
       "      <td>2.0</td>\n",
       "      <td>3.0</td>\n",
       "      <td>4.0</td>\n",
       "    </tr>\n",
       "    <tr>\n",
       "      <th>1</th>\n",
       "      <td>5.0</td>\n",
       "      <td>6.0</td>\n",
       "      <td>NaN</td>\n",
       "      <td>8.0</td>\n",
       "    </tr>\n",
       "    <tr>\n",
       "      <th>2</th>\n",
       "      <td>10.0</td>\n",
       "      <td>11.0</td>\n",
       "      <td>12.0</td>\n",
       "      <td>NaN</td>\n",
       "    </tr>\n",
       "  </tbody>\n",
       "</table>\n",
       "</div>"
      ],
      "text/plain": [
       "      A     B     C    D\n",
       "0   1.0   2.0   3.0  4.0\n",
       "1   5.0   6.0   NaN  8.0\n",
       "2  10.0  11.0  12.0  NaN"
      ]
     },
     "execution_count": 4,
     "metadata": {},
     "output_type": "execute_result"
    }
   ],
   "source": [
    "df"
   ]
  },
  {
   "cell_type": "code",
   "execution_count": 5,
   "id": "357d2f4f-05ce-49aa-b29a-7beaebafb20a",
   "metadata": {},
   "outputs": [
    {
     "data": {
      "text/plain": [
       "array([[ 1.,  2.,  3.,  4.],\n",
       "       [ 5.,  6., nan,  8.],\n",
       "       [10., 11., 12., nan]])"
      ]
     },
     "execution_count": 5,
     "metadata": {},
     "output_type": "execute_result"
    }
   ],
   "source": [
    "#Access the underlying numpy array via 'values' attribute\n",
    "df.values"
   ]
  },
  {
   "cell_type": "code",
   "execution_count": 6,
   "id": "a15aaf3d-5669-44dc-b13e-b92826ffe8a5",
   "metadata": {},
   "outputs": [
    {
     "data": {
      "text/html": [
       "<div>\n",
       "<style scoped>\n",
       "    .dataframe tbody tr th:only-of-type {\n",
       "        vertical-align: middle;\n",
       "    }\n",
       "\n",
       "    .dataframe tbody tr th {\n",
       "        vertical-align: top;\n",
       "    }\n",
       "\n",
       "    .dataframe thead th {\n",
       "        text-align: right;\n",
       "    }\n",
       "</style>\n",
       "<table border=\"1\" class=\"dataframe\">\n",
       "  <thead>\n",
       "    <tr style=\"text-align: right;\">\n",
       "      <th></th>\n",
       "      <th>A</th>\n",
       "      <th>B</th>\n",
       "      <th>C</th>\n",
       "      <th>D</th>\n",
       "    </tr>\n",
       "  </thead>\n",
       "  <tbody>\n",
       "    <tr>\n",
       "      <th>0</th>\n",
       "      <td>1.0</td>\n",
       "      <td>2.0</td>\n",
       "      <td>3.0</td>\n",
       "      <td>4.0</td>\n",
       "    </tr>\n",
       "  </tbody>\n",
       "</table>\n",
       "</div>"
      ],
      "text/plain": [
       "     A    B    C    D\n",
       "0  1.0  2.0  3.0  4.0"
      ]
     },
     "execution_count": 6,
     "metadata": {},
     "output_type": "execute_result"
    }
   ],
   "source": [
    "#Remove rows that contain missing values \n",
    "df.dropna(axis = 0)"
   ]
  },
  {
   "cell_type": "code",
   "execution_count": 7,
   "id": "ef0d35b7-091a-4c94-a2e1-e254ac5b80e2",
   "metadata": {},
   "outputs": [
    {
     "data": {
      "text/plain": [
       "A    0\n",
       "B    0\n",
       "C    1\n",
       "D    1\n",
       "dtype: int64"
      ]
     },
     "execution_count": 7,
     "metadata": {},
     "output_type": "execute_result"
    }
   ],
   "source": [
    "#missing values of each column\n",
    "df.isnull().sum()"
   ]
  },
  {
   "cell_type": "code",
   "execution_count": 8,
   "id": "3d09e7d6-ac05-4ce7-a61e-d4328d051c5b",
   "metadata": {},
   "outputs": [
    {
     "data": {
      "text/html": [
       "<div>\n",
       "<style scoped>\n",
       "    .dataframe tbody tr th:only-of-type {\n",
       "        vertical-align: middle;\n",
       "    }\n",
       "\n",
       "    .dataframe tbody tr th {\n",
       "        vertical-align: top;\n",
       "    }\n",
       "\n",
       "    .dataframe thead th {\n",
       "        text-align: right;\n",
       "    }\n",
       "</style>\n",
       "<table border=\"1\" class=\"dataframe\">\n",
       "  <thead>\n",
       "    <tr style=\"text-align: right;\">\n",
       "      <th></th>\n",
       "      <th>A</th>\n",
       "      <th>B</th>\n",
       "    </tr>\n",
       "  </thead>\n",
       "  <tbody>\n",
       "    <tr>\n",
       "      <th>0</th>\n",
       "      <td>1.0</td>\n",
       "      <td>2.0</td>\n",
       "    </tr>\n",
       "    <tr>\n",
       "      <th>1</th>\n",
       "      <td>5.0</td>\n",
       "      <td>6.0</td>\n",
       "    </tr>\n",
       "    <tr>\n",
       "      <th>2</th>\n",
       "      <td>10.0</td>\n",
       "      <td>11.0</td>\n",
       "    </tr>\n",
       "  </tbody>\n",
       "</table>\n",
       "</div>"
      ],
      "text/plain": [
       "      A     B\n",
       "0   1.0   2.0\n",
       "1   5.0   6.0\n",
       "2  10.0  11.0"
      ]
     },
     "execution_count": 8,
     "metadata": {},
     "output_type": "execute_result"
    }
   ],
   "source": [
    "#Remove columns that contains missing values \n",
    "df.dropna(axis = 1)"
   ]
  },
  {
   "cell_type": "code",
   "execution_count": 9,
   "id": "1648e957-a777-44c1-af9d-eadd13457e1a",
   "metadata": {},
   "outputs": [
    {
     "data": {
      "text/html": [
       "<div>\n",
       "<style scoped>\n",
       "    .dataframe tbody tr th:only-of-type {\n",
       "        vertical-align: middle;\n",
       "    }\n",
       "\n",
       "    .dataframe tbody tr th {\n",
       "        vertical-align: top;\n",
       "    }\n",
       "\n",
       "    .dataframe thead th {\n",
       "        text-align: right;\n",
       "    }\n",
       "</style>\n",
       "<table border=\"1\" class=\"dataframe\">\n",
       "  <thead>\n",
       "    <tr style=\"text-align: right;\">\n",
       "      <th></th>\n",
       "      <th>A</th>\n",
       "      <th>B</th>\n",
       "      <th>C</th>\n",
       "      <th>D</th>\n",
       "    </tr>\n",
       "  </thead>\n",
       "  <tbody>\n",
       "    <tr>\n",
       "      <th>0</th>\n",
       "      <td>1.0</td>\n",
       "      <td>2.0</td>\n",
       "      <td>3.0</td>\n",
       "      <td>4.0</td>\n",
       "    </tr>\n",
       "    <tr>\n",
       "      <th>1</th>\n",
       "      <td>5.0</td>\n",
       "      <td>6.0</td>\n",
       "      <td>NaN</td>\n",
       "      <td>8.0</td>\n",
       "    </tr>\n",
       "    <tr>\n",
       "      <th>2</th>\n",
       "      <td>10.0</td>\n",
       "      <td>11.0</td>\n",
       "      <td>12.0</td>\n",
       "      <td>NaN</td>\n",
       "    </tr>\n",
       "  </tbody>\n",
       "</table>\n",
       "</div>"
      ],
      "text/plain": [
       "      A     B     C    D\n",
       "0   1.0   2.0   3.0  4.0\n",
       "1   5.0   6.0   NaN  8.0\n",
       "2  10.0  11.0  12.0  NaN"
      ]
     },
     "execution_count": 9,
     "metadata": {},
     "output_type": "execute_result"
    }
   ],
   "source": [
    "#Drop only rows with all columns with NaN\n",
    "df.dropna(how='all')"
   ]
  },
  {
   "cell_type": "code",
   "execution_count": 10,
   "id": "fbe4435e-dcc0-4616-8a96-9846ee518853",
   "metadata": {},
   "outputs": [
    {
     "data": {
      "text/html": [
       "<div>\n",
       "<style scoped>\n",
       "    .dataframe tbody tr th:only-of-type {\n",
       "        vertical-align: middle;\n",
       "    }\n",
       "\n",
       "    .dataframe tbody tr th {\n",
       "        vertical-align: top;\n",
       "    }\n",
       "\n",
       "    .dataframe thead th {\n",
       "        text-align: right;\n",
       "    }\n",
       "</style>\n",
       "<table border=\"1\" class=\"dataframe\">\n",
       "  <thead>\n",
       "    <tr style=\"text-align: right;\">\n",
       "      <th></th>\n",
       "      <th>A</th>\n",
       "      <th>B</th>\n",
       "      <th>C</th>\n",
       "      <th>D</th>\n",
       "    </tr>\n",
       "  </thead>\n",
       "  <tbody>\n",
       "    <tr>\n",
       "      <th>0</th>\n",
       "      <td>1.0</td>\n",
       "      <td>2.0</td>\n",
       "      <td>3.0</td>\n",
       "      <td>4.0</td>\n",
       "    </tr>\n",
       "    <tr>\n",
       "      <th>2</th>\n",
       "      <td>10.0</td>\n",
       "      <td>11.0</td>\n",
       "      <td>12.0</td>\n",
       "      <td>NaN</td>\n",
       "    </tr>\n",
       "  </tbody>\n",
       "</table>\n",
       "</div>"
      ],
      "text/plain": [
       "      A     B     C    D\n",
       "0   1.0   2.0   3.0  4.0\n",
       "2  10.0  11.0  12.0  NaN"
      ]
     },
     "execution_count": 10,
     "metadata": {},
     "output_type": "execute_result"
    }
   ],
   "source": [
    "#Only drop rows where NaN appear in specific columns (here: column 'C')\n",
    "df.dropna(subset=['C']) "
   ]
  },
  {
   "cell_type": "code",
   "execution_count": 11,
   "id": "cb96ec50-dd7b-47a2-93eb-3d761e935383",
   "metadata": {},
   "outputs": [
    {
     "data": {
      "text/html": [
       "<div>\n",
       "<style scoped>\n",
       "    .dataframe tbody tr th:only-of-type {\n",
       "        vertical-align: middle;\n",
       "    }\n",
       "\n",
       "    .dataframe tbody tr th {\n",
       "        vertical-align: top;\n",
       "    }\n",
       "\n",
       "    .dataframe thead th {\n",
       "        text-align: right;\n",
       "    }\n",
       "</style>\n",
       "<table border=\"1\" class=\"dataframe\">\n",
       "  <thead>\n",
       "    <tr style=\"text-align: right;\">\n",
       "      <th></th>\n",
       "      <th>A</th>\n",
       "      <th>B</th>\n",
       "      <th>C</th>\n",
       "      <th>D</th>\n",
       "    </tr>\n",
       "  </thead>\n",
       "  <tbody>\n",
       "    <tr>\n",
       "      <th>0</th>\n",
       "      <td>1.0</td>\n",
       "      <td>2.0</td>\n",
       "      <td>3.0</td>\n",
       "      <td>4.0</td>\n",
       "    </tr>\n",
       "  </tbody>\n",
       "</table>\n",
       "</div>"
      ],
      "text/plain": [
       "     A    B    C    D\n",
       "0  1.0  2.0  3.0  4.0"
      ]
     },
     "execution_count": 11,
     "metadata": {},
     "output_type": "execute_result"
    }
   ],
   "source": [
    "#Drop rows that have fewer than 3 real values\n",
    "df.dropna(thresh = 4)"
   ]
  },
  {
   "cell_type": "code",
   "execution_count": 12,
   "id": "18a75ce1-5e7a-4134-b9af-8b61df9efc7d",
   "metadata": {},
   "outputs": [
    {
     "data": {
      "text/plain": [
       "array([[ 1.,  2.,  3.,  4.],\n",
       "       [ 5.,  6., nan,  8.],\n",
       "       [10., 11., 12., nan]])"
      ]
     },
     "execution_count": 12,
     "metadata": {},
     "output_type": "execute_result"
    }
   ],
   "source": [
    "#Check original Array\n",
    "df.values"
   ]
  },
  {
   "cell_type": "code",
   "execution_count": 13,
   "id": "111f6be3-1b34-4ae5-ab93-2589a3541cf6",
   "metadata": {},
   "outputs": [],
   "source": [
    "#Impute missing values by using the column Mean \n",
    "from sklearn.impute import SimpleImputer\n",
    "import numpy as np"
   ]
  },
  {
   "cell_type": "code",
   "execution_count": 14,
   "id": "8f814976-ac21-4fb2-95f4-3974291e63cc",
   "metadata": {},
   "outputs": [
    {
     "data": {
      "text/plain": [
       "array([[ 1. ,  2. ,  3. ,  4. ],\n",
       "       [ 5. ,  6. ,  7.5,  8. ],\n",
       "       [10. , 11. , 12. ,  6. ]])"
      ]
     },
     "execution_count": 14,
     "metadata": {},
     "output_type": "execute_result"
    }
   ],
   "source": [
    "imr = SimpleImputer(missing_values=np.nan, strategy='mean')\n",
    "imr = imr.fit(df.values)\n",
    "imputed_data = imr.transform(df.values)\n",
    "imputed_data"
   ]
  },
  {
   "cell_type": "code",
   "execution_count": 15,
   "id": "75a7e0af-23e0-43b5-8c18-03da277c5853",
   "metadata": {},
   "outputs": [
    {
     "data": {
      "text/html": [
       "<div>\n",
       "<style scoped>\n",
       "    .dataframe tbody tr th:only-of-type {\n",
       "        vertical-align: middle;\n",
       "    }\n",
       "\n",
       "    .dataframe tbody tr th {\n",
       "        vertical-align: top;\n",
       "    }\n",
       "\n",
       "    .dataframe thead th {\n",
       "        text-align: right;\n",
       "    }\n",
       "</style>\n",
       "<table border=\"1\" class=\"dataframe\">\n",
       "  <thead>\n",
       "    <tr style=\"text-align: right;\">\n",
       "      <th></th>\n",
       "      <th>A</th>\n",
       "      <th>B</th>\n",
       "      <th>C</th>\n",
       "      <th>D</th>\n",
       "    </tr>\n",
       "  </thead>\n",
       "  <tbody>\n",
       "    <tr>\n",
       "      <th>0</th>\n",
       "      <td>1.0</td>\n",
       "      <td>2.0</td>\n",
       "      <td>3.0</td>\n",
       "      <td>4.0</td>\n",
       "    </tr>\n",
       "    <tr>\n",
       "      <th>1</th>\n",
       "      <td>5.0</td>\n",
       "      <td>6.0</td>\n",
       "      <td>7.5</td>\n",
       "      <td>8.0</td>\n",
       "    </tr>\n",
       "    <tr>\n",
       "      <th>2</th>\n",
       "      <td>10.0</td>\n",
       "      <td>11.0</td>\n",
       "      <td>12.0</td>\n",
       "      <td>6.0</td>\n",
       "    </tr>\n",
       "  </tbody>\n",
       "</table>\n",
       "</div>"
      ],
      "text/plain": [
       "      A     B     C    D\n",
       "0   1.0   2.0   3.0  4.0\n",
       "1   5.0   6.0   7.5  8.0\n",
       "2  10.0  11.0  12.0  6.0"
      ]
     },
     "execution_count": 15,
     "metadata": {},
     "output_type": "execute_result"
    }
   ],
   "source": [
    "df.fillna(df.mean())"
   ]
  },
  {
   "cell_type": "code",
   "execution_count": 16,
   "id": "ff8f6e3e-fec8-4c85-aaae-cc099d678b8f",
   "metadata": {},
   "outputs": [
    {
     "data": {
      "text/html": [
       "<div>\n",
       "<style scoped>\n",
       "    .dataframe tbody tr th:only-of-type {\n",
       "        vertical-align: middle;\n",
       "    }\n",
       "\n",
       "    .dataframe tbody tr th {\n",
       "        vertical-align: top;\n",
       "    }\n",
       "\n",
       "    .dataframe thead th {\n",
       "        text-align: right;\n",
       "    }\n",
       "</style>\n",
       "<table border=\"1\" class=\"dataframe\">\n",
       "  <thead>\n",
       "    <tr style=\"text-align: right;\">\n",
       "      <th></th>\n",
       "      <th>color</th>\n",
       "      <th>size</th>\n",
       "      <th>price</th>\n",
       "      <th>classlabel</th>\n",
       "    </tr>\n",
       "  </thead>\n",
       "  <tbody>\n",
       "    <tr>\n",
       "      <th>0</th>\n",
       "      <td>green</td>\n",
       "      <td>M</td>\n",
       "      <td>10.1</td>\n",
       "      <td>class2</td>\n",
       "    </tr>\n",
       "    <tr>\n",
       "      <th>1</th>\n",
       "      <td>red</td>\n",
       "      <td>L</td>\n",
       "      <td>13.5</td>\n",
       "      <td>class1</td>\n",
       "    </tr>\n",
       "    <tr>\n",
       "      <th>2</th>\n",
       "      <td>blue</td>\n",
       "      <td>XL</td>\n",
       "      <td>15.3</td>\n",
       "      <td>class2</td>\n",
       "    </tr>\n",
       "  </tbody>\n",
       "</table>\n",
       "</div>"
      ],
      "text/plain": [
       "   color size  price classlabel\n",
       "0  green    M   10.1     class2\n",
       "1    red    L   13.5     class1\n",
       "2   blue   XL   15.3     class2"
      ]
     },
     "execution_count": 16,
     "metadata": {},
     "output_type": "execute_result"
    }
   ],
   "source": [
    "import pandas as pd \n",
    "df = pd.DataFrame([ \n",
    "['green', 'M', 10.1, 'class2'], \n",
    "['red', 'L', 13.5, 'class1'], \n",
    "['blue', 'XL', 15.3, 'class2']]) \n",
    "df.columns = ['color', 'size', 'price', 'classlabel'] \n",
    "df"
   ]
  },
  {
   "cell_type": "code",
   "execution_count": 17,
   "id": "0b42f3a4-8779-4c30-b5ff-edce22c7989d",
   "metadata": {},
   "outputs": [
    {
     "data": {
      "text/html": [
       "<div>\n",
       "<style scoped>\n",
       "    .dataframe tbody tr th:only-of-type {\n",
       "        vertical-align: middle;\n",
       "    }\n",
       "\n",
       "    .dataframe tbody tr th {\n",
       "        vertical-align: top;\n",
       "    }\n",
       "\n",
       "    .dataframe thead th {\n",
       "        text-align: right;\n",
       "    }\n",
       "</style>\n",
       "<table border=\"1\" class=\"dataframe\">\n",
       "  <thead>\n",
       "    <tr style=\"text-align: right;\">\n",
       "      <th></th>\n",
       "      <th>color</th>\n",
       "      <th>size</th>\n",
       "      <th>price</th>\n",
       "      <th>classlabel</th>\n",
       "    </tr>\n",
       "  </thead>\n",
       "  <tbody>\n",
       "    <tr>\n",
       "      <th>0</th>\n",
       "      <td>green</td>\n",
       "      <td>1</td>\n",
       "      <td>10.1</td>\n",
       "      <td>class2</td>\n",
       "    </tr>\n",
       "    <tr>\n",
       "      <th>1</th>\n",
       "      <td>red</td>\n",
       "      <td>2</td>\n",
       "      <td>13.5</td>\n",
       "      <td>class1</td>\n",
       "    </tr>\n",
       "    <tr>\n",
       "      <th>2</th>\n",
       "      <td>blue</td>\n",
       "      <td>3</td>\n",
       "      <td>15.3</td>\n",
       "      <td>class2</td>\n",
       "    </tr>\n",
       "  </tbody>\n",
       "</table>\n",
       "</div>"
      ],
      "text/plain": [
       "   color  size  price classlabel\n",
       "0  green     1   10.1     class2\n",
       "1    red     2   13.5     class1\n",
       "2   blue     3   15.3     class2"
      ]
     },
     "execution_count": 17,
     "metadata": {},
     "output_type": "execute_result"
    }
   ],
   "source": [
    "size_mapping = { \n",
    "'XL': 3, \n",
    "'L': 2, \n",
    "'M': 1} \n",
    "df['size'] = df['size'].map(size_mapping) \n",
    "df"
   ]
  },
  {
   "cell_type": "code",
   "execution_count": 18,
   "id": "9da2d10b-8dbf-447c-9b3d-fc990a4695f5",
   "metadata": {},
   "outputs": [
    {
     "data": {
      "text/plain": [
       "0     M\n",
       "1     L\n",
       "2    XL\n",
       "Name: size, dtype: object"
      ]
     },
     "execution_count": 18,
     "metadata": {},
     "output_type": "execute_result"
    }
   ],
   "source": [
    "inv_size_mapping = {v: k for k, v in size_mapping.items()} \n",
    "df['size'].map(inv_size_mapping)"
   ]
  },
  {
   "cell_type": "code",
   "execution_count": 19,
   "id": "9efe23b0-b796-4d6e-9214-f1dc7f92a7cf",
   "metadata": {},
   "outputs": [
    {
     "data": {
      "text/plain": [
       "{'class1': 0, 'class2': 1}"
      ]
     },
     "execution_count": 19,
     "metadata": {},
     "output_type": "execute_result"
    }
   ],
   "source": [
    "#Create mapping dict to convert class labels from strings to integers \n",
    "class_mapping = {label: idx for idx, label in \n",
    "enumerate(np.unique(df['classlabel']))} \n",
    "class_mapping "
   ]
  },
  {
   "cell_type": "code",
   "execution_count": 20,
   "id": "c9f259f3-e131-4f64-9a10-83a60a2dc865",
   "metadata": {},
   "outputs": [
    {
     "data": {
      "text/html": [
       "<div>\n",
       "<style scoped>\n",
       "    .dataframe tbody tr th:only-of-type {\n",
       "        vertical-align: middle;\n",
       "    }\n",
       "\n",
       "    .dataframe tbody tr th {\n",
       "        vertical-align: top;\n",
       "    }\n",
       "\n",
       "    .dataframe thead th {\n",
       "        text-align: right;\n",
       "    }\n",
       "</style>\n",
       "<table border=\"1\" class=\"dataframe\">\n",
       "  <thead>\n",
       "    <tr style=\"text-align: right;\">\n",
       "      <th></th>\n",
       "      <th>color</th>\n",
       "      <th>size</th>\n",
       "      <th>price</th>\n",
       "      <th>classlabel</th>\n",
       "    </tr>\n",
       "  </thead>\n",
       "  <tbody>\n",
       "    <tr>\n",
       "      <th>0</th>\n",
       "      <td>green</td>\n",
       "      <td>1</td>\n",
       "      <td>10.1</td>\n",
       "      <td>1</td>\n",
       "    </tr>\n",
       "    <tr>\n",
       "      <th>1</th>\n",
       "      <td>red</td>\n",
       "      <td>2</td>\n",
       "      <td>13.5</td>\n",
       "      <td>0</td>\n",
       "    </tr>\n",
       "    <tr>\n",
       "      <th>2</th>\n",
       "      <td>blue</td>\n",
       "      <td>3</td>\n",
       "      <td>15.3</td>\n",
       "      <td>1</td>\n",
       "    </tr>\n",
       "  </tbody>\n",
       "</table>\n",
       "</div>"
      ],
      "text/plain": [
       "   color  size  price  classlabel\n",
       "0  green     1   10.1           1\n",
       "1    red     2   13.5           0\n",
       "2   blue     3   15.3           1"
      ]
     },
     "execution_count": 20,
     "metadata": {},
     "output_type": "execute_result"
    }
   ],
   "source": [
    "#To convert class labels from strings to integers \n",
    "df['classlabel'] = df['classlabel'].map(class_mapping) \n",
    "df "
   ]
  },
  {
   "cell_type": "code",
   "execution_count": 21,
   "id": "88bf79b6-fedd-4e23-ade2-a65b2159f18d",
   "metadata": {},
   "outputs": [
    {
     "data": {
      "text/plain": [
       "array([1, 0, 1])"
      ]
     },
     "execution_count": 21,
     "metadata": {},
     "output_type": "execute_result"
    }
   ],
   "source": [
    "from sklearn.preprocessing import LabelEncoder \n",
    "#Label encoding with sklearn's LabelEncoder \n",
    "class_le = LabelEncoder() \n",
    "y = class_le.fit_transform(df['classlabel'].values) \n",
    "y "
   ]
  },
  {
   "cell_type": "code",
   "execution_count": 22,
   "id": "a17c4db2-18ad-4b5b-bb70-74c1def0b8a5",
   "metadata": {},
   "outputs": [
    {
     "data": {
      "text/plain": [
       "array([1, 0, 1])"
      ]
     },
     "execution_count": 22,
     "metadata": {},
     "output_type": "execute_result"
    }
   ],
   "source": [
    "#Reverse mapping \n",
    "class_le.inverse_transform(y)"
   ]
  },
  {
   "cell_type": "code",
   "execution_count": 23,
   "id": "b39799d6-c3b1-4859-be43-3690a80dae56",
   "metadata": {},
   "outputs": [
    {
     "data": {
      "text/plain": [
       "array([[1, 1, 10.1],\n",
       "       [2, 2, 13.5],\n",
       "       [0, 3, 15.3]], dtype=object)"
      ]
     },
     "execution_count": 23,
     "metadata": {},
     "output_type": "execute_result"
    }
   ],
   "source": [
    "X = df[['color', 'size', 'price']].values \n",
    "color_le = LabelEncoder() \n",
    "X[:, 0] = color_le.fit_transform(X[:, 0]) \n",
    "X"
   ]
  },
  {
   "cell_type": "code",
   "execution_count": 24,
   "id": "8d1c1b80-4554-4873-978c-a14f27012200",
   "metadata": {},
   "outputs": [
    {
     "data": {
      "text/plain": [
       "array([[ 0. ,  1. ,  0. ,  1. , 10.1],\n",
       "       [ 0. ,  0. ,  1. ,  2. , 13.5],\n",
       "       [ 1. ,  0. ,  0. ,  3. , 15.3]])"
      ]
     },
     "execution_count": 24,
     "metadata": {},
     "output_type": "execute_result"
    }
   ],
   "source": [
    "from sklearn.preprocessing import OneHotEncoder \n",
    "X = df[['color', 'size', 'price']].values \n",
    "color_ohe = OneHotEncoder() \n",
    "color_ohe.fit_transform(X[:, 0].reshape(-1, 1)).toarray() \n",
    "from sklearn.compose import ColumnTransformer \n",
    "X = df[['color', 'size', 'price']].values \n",
    "c_transf = ColumnTransformer([ ('onehot', OneHotEncoder(), [0]), \n",
    "('nothing', 'passthrough', [1, 2])]) \n",
    "c_transf.fit_transform(X).astype(float)"
   ]
  },
  {
   "cell_type": "code",
   "execution_count": 25,
   "id": "931c007a-97ab-4823-836e-9fa87c65a9ee",
   "metadata": {},
   "outputs": [
    {
     "data": {
      "text/plain": [
       "array([[ 1. ,  0. ,  1. , 10.1],\n",
       "       [ 0. ,  1. ,  2. , 13.5],\n",
       "       [ 0. ,  0. ,  3. , 15.3]])"
      ]
     },
     "execution_count": 25,
     "metadata": {},
     "output_type": "execute_result"
    }
   ],
   "source": [
    "#One-hot encoding via pandas \n",
    "pd.get_dummies(df[['price', 'color', 'size']]) \n",
    "#Multicollinearity guard in get_dummies \n",
    "pd.get_dummies(df[['price', 'color', 'size']], drop_first=True) \n",
    " \n",
    "#Multicollinearity guard for the OneHotEncoder \n",
    "color_ohe = OneHotEncoder(categories='auto', drop='first') \n",
    "c_transf = ColumnTransformer([('onehot', color_ohe, [0]), \n",
    "                              ('nothing', 'passthrough', [1, 2])]) \n",
    "c_transf.fit_transform(X).astype(float)"
   ]
  },
  {
   "cell_type": "code",
   "execution_count": 26,
   "id": "cfc43970-3cf6-48df-a659-a2d2f92671c4",
   "metadata": {},
   "outputs": [
    {
     "name": "stdout",
     "output_type": "stream",
     "text": [
      "Class labels: [1 2 3]\n"
     ]
    },
    {
     "data": {
      "text/html": [
       "<div>\n",
       "<style scoped>\n",
       "    .dataframe tbody tr th:only-of-type {\n",
       "        vertical-align: middle;\n",
       "    }\n",
       "\n",
       "    .dataframe tbody tr th {\n",
       "        vertical-align: top;\n",
       "    }\n",
       "\n",
       "    .dataframe thead th {\n",
       "        text-align: right;\n",
       "    }\n",
       "</style>\n",
       "<table border=\"1\" class=\"dataframe\">\n",
       "  <thead>\n",
       "    <tr style=\"text-align: right;\">\n",
       "      <th></th>\n",
       "      <th>Class label</th>\n",
       "      <th>Alcohol</th>\n",
       "      <th>Malic acid</th>\n",
       "      <th>Ash</th>\n",
       "      <th>Alcalinity of ash</th>\n",
       "      <th>Magnesium</th>\n",
       "      <th>Total phenols</th>\n",
       "      <th>Flavanoids</th>\n",
       "      <th>Nonflavanoid phenols</th>\n",
       "      <th>Proanthocyanins</th>\n",
       "      <th>Color intensity</th>\n",
       "      <th>Hue</th>\n",
       "      <th>OD280/OD315 of diluted wines</th>\n",
       "      <th>Proline</th>\n",
       "    </tr>\n",
       "  </thead>\n",
       "  <tbody>\n",
       "    <tr>\n",
       "      <th>0</th>\n",
       "      <td>1</td>\n",
       "      <td>14.23</td>\n",
       "      <td>1.71</td>\n",
       "      <td>2.43</td>\n",
       "      <td>15.6</td>\n",
       "      <td>127</td>\n",
       "      <td>2.80</td>\n",
       "      <td>3.06</td>\n",
       "      <td>0.28</td>\n",
       "      <td>2.29</td>\n",
       "      <td>5.64</td>\n",
       "      <td>1.04</td>\n",
       "      <td>3.92</td>\n",
       "      <td>1065</td>\n",
       "    </tr>\n",
       "    <tr>\n",
       "      <th>1</th>\n",
       "      <td>1</td>\n",
       "      <td>13.20</td>\n",
       "      <td>1.78</td>\n",
       "      <td>2.14</td>\n",
       "      <td>11.2</td>\n",
       "      <td>100</td>\n",
       "      <td>2.65</td>\n",
       "      <td>2.76</td>\n",
       "      <td>0.26</td>\n",
       "      <td>1.28</td>\n",
       "      <td>4.38</td>\n",
       "      <td>1.05</td>\n",
       "      <td>3.40</td>\n",
       "      <td>1050</td>\n",
       "    </tr>\n",
       "    <tr>\n",
       "      <th>2</th>\n",
       "      <td>1</td>\n",
       "      <td>13.16</td>\n",
       "      <td>2.36</td>\n",
       "      <td>2.67</td>\n",
       "      <td>18.6</td>\n",
       "      <td>101</td>\n",
       "      <td>2.80</td>\n",
       "      <td>3.24</td>\n",
       "      <td>0.30</td>\n",
       "      <td>2.81</td>\n",
       "      <td>5.68</td>\n",
       "      <td>1.03</td>\n",
       "      <td>3.17</td>\n",
       "      <td>1185</td>\n",
       "    </tr>\n",
       "    <tr>\n",
       "      <th>3</th>\n",
       "      <td>1</td>\n",
       "      <td>14.37</td>\n",
       "      <td>1.95</td>\n",
       "      <td>2.50</td>\n",
       "      <td>16.8</td>\n",
       "      <td>113</td>\n",
       "      <td>3.85</td>\n",
       "      <td>3.49</td>\n",
       "      <td>0.24</td>\n",
       "      <td>2.18</td>\n",
       "      <td>7.80</td>\n",
       "      <td>0.86</td>\n",
       "      <td>3.45</td>\n",
       "      <td>1480</td>\n",
       "    </tr>\n",
       "    <tr>\n",
       "      <th>4</th>\n",
       "      <td>1</td>\n",
       "      <td>13.24</td>\n",
       "      <td>2.59</td>\n",
       "      <td>2.87</td>\n",
       "      <td>21.0</td>\n",
       "      <td>118</td>\n",
       "      <td>2.80</td>\n",
       "      <td>2.69</td>\n",
       "      <td>0.39</td>\n",
       "      <td>1.82</td>\n",
       "      <td>4.32</td>\n",
       "      <td>1.04</td>\n",
       "      <td>2.93</td>\n",
       "      <td>735</td>\n",
       "    </tr>\n",
       "  </tbody>\n",
       "</table>\n",
       "</div>"
      ],
      "text/plain": [
       "   Class label  Alcohol  Malic acid   Ash  Alcalinity of ash  Magnesium  \\\n",
       "0            1    14.23        1.71  2.43               15.6        127   \n",
       "1            1    13.20        1.78  2.14               11.2        100   \n",
       "2            1    13.16        2.36  2.67               18.6        101   \n",
       "3            1    14.37        1.95  2.50               16.8        113   \n",
       "4            1    13.24        2.59  2.87               21.0        118   \n",
       "\n",
       "   Total phenols  Flavanoids  Nonflavanoid phenols  Proanthocyanins  \\\n",
       "0           2.80        3.06                  0.28             2.29   \n",
       "1           2.65        2.76                  0.26             1.28   \n",
       "2           2.80        3.24                  0.30             2.81   \n",
       "3           3.85        3.49                  0.24             2.18   \n",
       "4           2.80        2.69                  0.39             1.82   \n",
       "\n",
       "   Color intensity   Hue  OD280/OD315 of diluted wines  Proline  \n",
       "0             5.64  1.04                          3.92     1065  \n",
       "1             4.38  1.05                          3.40     1050  \n",
       "2             5.68  1.03                          3.17     1185  \n",
       "3             7.80  0.86                          3.45     1480  \n",
       "4             4.32  1.04                          2.93      735  "
      ]
     },
     "execution_count": 26,
     "metadata": {},
     "output_type": "execute_result"
    }
   ],
   "source": [
    "# Load the dataset from the URL \n",
    "df_wine = pd.read_csv('https://archive.ics.uci.edu/' \n",
    "                    'ml/machine-learning-databases/wine/wine.data', \n",
    "                    header=None) \n",
    " \n",
    "# If using an offline dataset, uncomment the following line and comment \n",
    "#the URL line above \n",
    "# df_wine = pd.read_csv('wine.data', header=None) \n",
    " \n",
    "# Assign column names to the DataFrame \n",
    "df_wine.columns = ['Class label', 'Alcohol', 'Malic acid', 'Ash', \n",
    "                   'Alcalinity of ash', 'Magnesium', 'Total phenols', \n",
    "                   'Flavanoids', 'Nonflavanoid phenols', 'Proanthocyanins', \n",
    "                   'Color intensity', 'Hue', 'OD280/OD315 of diluted wines', \n",
    "                   'Proline']\n",
    " \n",
    " # Print the unique class labels \n",
    "print('Class labels:', np.unique(df_wine['Class label'])) \n",
    " \n",
    "# Display the first few rows of the DataFrame \n",
    "df_wine.head() "
   ]
  },
  {
   "cell_type": "code",
   "execution_count": 27,
   "id": "24d03bba-0fad-4ef1-afa5-903f4275da55",
   "metadata": {},
   "outputs": [],
   "source": [
    "from sklearn.model_selection import train_test_split\n",
    "\n",
    "X, y = df_wine.iloc[:, 1:].values, df_wine.iloc[:, 0].values\n",
    "\n",
    "X_train, X_test, y_train, y_test = \\\n",
    "    train_test_split(X, y,\n",
    "                     test_size=0.3,\n",
    "                     random_state=0,\n",
    "                     stratify=y)"
   ]
  },
  {
   "cell_type": "code",
   "execution_count": 28,
   "id": "709e64c4-60fa-4749-9b6e-9a24b5ab4e76",
   "metadata": {},
   "outputs": [],
   "source": [
    "from sklearn.preprocessing import MinMaxScaler \n",
    " \n",
    "mms = MinMaxScaler() \n",
    "X_train_norm = mms.fit_transform(X_train) \n",
    "X_test_norm = mms.transform(X_test)"
   ]
  },
  {
   "cell_type": "code",
   "execution_count": 29,
   "id": "2d3149bf-edc6-4020-bc9e-4d986165411c",
   "metadata": {},
   "outputs": [
    {
     "name": "stdout",
     "output_type": "stream",
     "text": [
      "X_train_norm:\n",
      " [[0.64619883 0.83201581 0.4248366  ... 0.45744681 0.28571429 0.19400856]\n",
      " [0.6871345  0.15612648 0.65359477 ... 0.81914894 0.63369963 0.68259629]\n",
      " [0.67836257 0.15019763 0.65359477 ... 0.75531915 0.52747253 0.71825963]\n",
      " ...\n",
      " [0.72222222 0.84980237 0.34640523 ... 0.10638298 0.02197802 0.09771755]\n",
      " [0.16081871 0.06916996 0.39215686 ... 0.54255319 0.68131868 0.43366619]\n",
      " [0.37719298 0.61857708 0.45751634 ... 0.75531915 0.68131868 0.13195435]]\n"
     ]
    }
   ],
   "source": [
    "print(\"X_train_norm:\\n\", X_train_norm)"
   ]
  },
  {
   "cell_type": "code",
   "execution_count": 30,
   "id": "20d9ed59-7fb8-44e8-be3a-8dfdb2dc6ac9",
   "metadata": {},
   "outputs": [
    {
     "name": "stdout",
     "output_type": "stream",
     "text": [
      "First 5 rows of X_train_norm:\n",
      " [[0.64619883 0.83201581 0.4248366  0.46236559 0.27160494 0.35172414\n",
      "  0.09704641 0.68       0.18987342 0.23623446 0.45744681 0.28571429\n",
      "  0.19400856]\n",
      " [0.6871345  0.15612648 0.65359477 0.43548387 0.7654321  0.67931034\n",
      "  0.50632911 0.74       0.2943038  0.3250444  0.81914894 0.63369963\n",
      "  0.68259629]\n",
      " [0.67836257 0.15019763 0.65359477 0.59677419 0.38271605 0.69655172\n",
      "  0.61392405 0.32       0.62025316 0.35168739 0.75531915 0.52747253\n",
      "  0.71825963]\n",
      " [0.61403509 0.20948617 0.62091503 0.40860215 0.49382716 0.47241379\n",
      "  0.46202532 0.32       0.35443038 0.21847247 0.65957447 0.58608059\n",
      "  0.58273894]\n",
      " [0.34795322 0.33992095 0.32679739 0.38172043 0.2962963  0.22068966\n",
      "  0.06751055 1.         0.16455696 0.47602131 0.26595745 0.11355311\n",
      "  0.29743224]]\n"
     ]
    }
   ],
   "source": [
    "print(\"First 5 rows of X_train_norm:\\n\", X_train_norm[:5])"
   ]
  },
  {
   "cell_type": "code",
   "execution_count": 31,
   "id": "30fa1193-4f7d-408d-a0ee-8be4d269d45b",
   "metadata": {},
   "outputs": [],
   "source": [
    "from sklearn.preprocessing import StandardScaler \n",
    "stdsc = StandardScaler() \n",
    "X_train_std = stdsc.fit_transform(X_train) \n",
    "X_test_std = stdsc.transform(X_test) "
   ]
  },
  {
   "cell_type": "code",
   "execution_count": 32,
   "id": "acbf4fd7-7601-40be-be44-bee3d74c95b6",
   "metadata": {},
   "outputs": [
    {
     "name": "stdout",
     "output_type": "stream",
     "text": [
      "X_train_std:\n",
      " [[ 0.71225893  2.22048673 -0.13025864 ... -0.20017028 -0.82164144\n",
      "  -0.62946362]\n",
      " [ 0.88229214 -0.70457155  1.17533605 ...  1.33982592  0.54931269\n",
      "   1.47568796]\n",
      " [ 0.84585645 -0.73022996  1.17533605 ...  1.06806189  0.1308109\n",
      "   1.62934866]\n",
      " ...\n",
      " [ 1.02803489  2.29746195 -0.5778911  ... -1.69487249 -1.86068037\n",
      "  -1.04434751]\n",
      " [-1.30384913 -1.08089484 -0.31677217 ...  0.16218176  0.73691694\n",
      "   0.40313628]\n",
      " [-0.40510216  1.29678411  0.05625489 ...  1.06806189  0.73691694\n",
      "  -0.89683324]]\n"
     ]
    }
   ],
   "source": [
    "print(\"X_train_std:\\n\", X_train_std)"
   ]
  },
  {
   "cell_type": "code",
   "execution_count": 33,
   "id": "5e4c08a5-ab25-4214-9fd2-bd78c749e7c6",
   "metadata": {},
   "outputs": [
    {
     "name": "stdout",
     "output_type": "stream",
     "text": [
      "First 5 rows of X_train_std:\n",
      " [[ 0.71225893  2.22048673 -0.13025864  0.05962872 -0.50432733 -0.52831584\n",
      "  -1.24000033  0.84118003 -1.05215112 -0.29218864 -0.20017028 -0.82164144\n",
      "  -0.62946362]\n",
      " [ 0.88229214 -0.70457155  1.17533605 -0.09065504  2.34147876  1.01675879\n",
      "   0.66299475  1.0887425  -0.49293533  0.13152077  1.33982592  0.54931269\n",
      "   1.47568796]\n",
      " [ 0.84585645 -0.73022996  1.17533605  0.81104754  0.13597904  1.09807851\n",
      "   1.16326665 -0.64419483  1.25249578  0.25863359  1.06806189  0.1308109\n",
      "   1.62934866]\n",
      " [ 0.57866141 -0.4736459   0.98882252 -0.24093881  0.77628541  0.04092218\n",
      "   0.45700044 -0.64419483 -0.1709626  -0.37693052  0.66041583  0.36170844\n",
      "   1.045438  ]\n",
      " [-0.52655446  0.09083903 -0.68979922 -0.39122257 -0.36203702 -1.1463457\n",
      "  -1.37732987  2.16151323 -1.18771859  0.85182676 -1.01546239 -1.49990297\n",
      "  -0.18384759]]\n"
     ]
    }
   ],
   "source": [
    "print(\"First 5 rows of X_train_std:\\n\", X_train_std[:5])"
   ]
  },
  {
   "cell_type": "code",
   "execution_count": 34,
   "id": "e0f647a9-464f-4a26-9e8b-0b8f989780b4",
   "metadata": {},
   "outputs": [
    {
     "name": "stdout",
     "output_type": "stream",
     "text": [
      "standarized: [-1.46385011 -0.87831007 -0.29277002  0.29277002  0.87831007  1.46385011]\n",
      "normalized [0.  0.2 0.4 0.6 0.8 1. ]\n"
     ]
    }
   ],
   "source": [
    "ex = np.array([0, 1, 2, 3, 4, 5]) \n",
    "print('standarized:', (ex - ex.mean()) / ex.std()) \n",
    "#normalize \n",
    "print('normalized', (ex - ex.min()) / (ex.max() - ex.min())) "
   ]
  },
  {
   "cell_type": "code",
   "execution_count": 1,
   "id": "cfd7ceaa-2152-4b5a-9073-19c1c5b2a91c",
   "metadata": {},
   "outputs": [
    {
     "name": "stdout",
     "output_type": "stream",
     "text": [
      "Collecting openvino\n",
      "  Downloading openvino-2025.3.0-19807-cp313-cp313-win_amd64.whl.metadata (13 kB)\n",
      "Collecting numpy<2.3.0,>=1.16.6 (from openvino)\n",
      "  Downloading numpy-2.2.6-cp313-cp313-win_amd64.whl.metadata (60 kB)\n",
      "Collecting openvino-telemetry>=2023.2.1 (from openvino)\n",
      "  Downloading openvino_telemetry-2025.2.0-py3-none-any.whl.metadata (2.3 kB)\n",
      "Requirement already satisfied: packaging in c:\\users\\admin\\appdata\\local\\programs\\python\\python313\\lib\\site-packages (from openvino) (25.0)\n",
      "Downloading openvino-2025.3.0-19807-cp313-cp313-win_amd64.whl (40.6 MB)\n",
      "   ---------------------------------------- 0.0/40.6 MB ? eta -:--:--\n",
      "   ---- ----------------------------------- 4.2/40.6 MB 35.9 MB/s eta 0:00:02\n",
      "   ---- ----------------------------------- 4.2/40.6 MB 35.9 MB/s eta 0:00:02\n",
      "   ---- ----------------------------------- 4.2/40.6 MB 35.9 MB/s eta 0:00:02\n",
      "   ---- ----------------------------------- 4.2/40.6 MB 35.9 MB/s eta 0:00:02\n",
      "   ---- ----------------------------------- 4.2/40.6 MB 35.9 MB/s eta 0:00:02\n",
      "   ------- -------------------------------- 7.3/40.6 MB 5.6 MB/s eta 0:00:06\n",
      "   ------- -------------------------------- 7.3/40.6 MB 5.6 MB/s eta 0:00:06\n",
      "   -------- ------------------------------- 8.4/40.6 MB 5.3 MB/s eta 0:00:07\n",
      "   ------------ --------------------------- 12.6/40.6 MB 6.6 MB/s eta 0:00:05\n",
      "   ------------ --------------------------- 12.6/40.6 MB 6.6 MB/s eta 0:00:05\n",
      "   ------------- -------------------------- 13.6/40.6 MB 6.2 MB/s eta 0:00:05\n",
      "   --------------- ------------------------ 15.7/40.6 MB 6.4 MB/s eta 0:00:04\n",
      "   --------------- ------------------------ 15.7/40.6 MB 6.4 MB/s eta 0:00:04\n",
      "   --------------- ------------------------ 15.7/40.6 MB 6.4 MB/s eta 0:00:04\n",
      "   ---------------- ----------------------- 16.8/40.6 MB 5.4 MB/s eta 0:00:05\n",
      "   ----------------------- ---------------- 24.1/40.6 MB 7.0 MB/s eta 0:00:03\n",
      "   ----------------------- ---------------- 24.1/40.6 MB 7.0 MB/s eta 0:00:03\n",
      "   ------------------------ --------------- 25.2/40.6 MB 6.8 MB/s eta 0:00:03\n",
      "   -------------------------- ------------- 27.3/40.6 MB 6.9 MB/s eta 0:00:02\n",
      "   -------------------------- ------------- 27.3/40.6 MB 6.9 MB/s eta 0:00:02\n",
      "   -------------------------- ------------- 27.3/40.6 MB 6.9 MB/s eta 0:00:02\n",
      "   -------------------------- ------------- 27.3/40.6 MB 6.9 MB/s eta 0:00:02\n",
      "   --------------------------------- ------ 33.6/40.6 MB 6.9 MB/s eta 0:00:02\n",
      "   --------------------------------- ------ 33.6/40.6 MB 6.9 MB/s eta 0:00:02\n",
      "   --------------------------------- ------ 33.6/40.6 MB 6.9 MB/s eta 0:00:02\n",
      "   --------------------------------- ------ 33.6/40.6 MB 6.9 MB/s eta 0:00:02\n",
      "   --------------------------------- ------ 33.6/40.6 MB 6.9 MB/s eta 0:00:02\n",
      "   --------------------------------- ------ 33.6/40.6 MB 6.9 MB/s eta 0:00:02\n",
      "   --------------------------------- ------ 33.6/40.6 MB 6.9 MB/s eta 0:00:02\n",
      "   --------------------------------- ------ 33.6/40.6 MB 6.9 MB/s eta 0:00:02\n",
      "   ------------------------------------ --- 36.7/40.6 MB 5.5 MB/s eta 0:00:01\n",
      "   ------------------------------------ --- 36.7/40.6 MB 5.5 MB/s eta 0:00:01\n",
      "   ------------------------------------ --- 36.7/40.6 MB 5.5 MB/s eta 0:00:01\n",
      "   ------------------------------------ --- 36.7/40.6 MB 5.5 MB/s eta 0:00:01\n",
      "   ------------------------------------ --- 36.7/40.6 MB 5.5 MB/s eta 0:00:01\n",
      "   ------------------------------------ --- 36.7/40.6 MB 5.5 MB/s eta 0:00:01\n",
      "   ------------------------------------ --- 36.7/40.6 MB 5.5 MB/s eta 0:00:01\n",
      "   ------------------------------------ --- 36.7/40.6 MB 5.5 MB/s eta 0:00:01\n",
      "   ------------------------------------ --- 36.7/40.6 MB 5.5 MB/s eta 0:00:01\n",
      "   ------------------------------------ --- 36.7/40.6 MB 5.5 MB/s eta 0:00:01\n",
      "   ------------------------------------ --- 36.7/40.6 MB 5.5 MB/s eta 0:00:01\n",
      "   ------------------------------------ --- 36.7/40.6 MB 5.5 MB/s eta 0:00:01\n",
      "   ------------------------------------ --- 36.7/40.6 MB 5.5 MB/s eta 0:00:01\n",
      "   ------------------------------------ --- 36.7/40.6 MB 5.5 MB/s eta 0:00:01\n",
      "   ------------------------------------ --- 36.7/40.6 MB 5.5 MB/s eta 0:00:01\n",
      "   ------------------------------------ --- 36.7/40.6 MB 5.5 MB/s eta 0:00:01\n",
      "   ------------------------------------ --- 36.7/40.6 MB 5.5 MB/s eta 0:00:01\n",
      "   ------------------------------------- -- 38.5/40.6 MB 3.7 MB/s eta 0:00:01\n",
      "   -------------------------------------- - 38.8/40.6 MB 3.7 MB/s eta 0:00:01\n",
      "   ---------------------------------------- 40.6/40.6 MB 3.8 MB/s  0:00:10\n",
      "Downloading numpy-2.2.6-cp313-cp313-win_amd64.whl (12.6 MB)\n",
      "   ---------------------------------------- 0.0/12.6 MB ? eta -:--:--\n",
      "   ---------------------------------------- 12.6/12.6 MB 89.2 MB/s  0:00:00\n",
      "Downloading openvino_telemetry-2025.2.0-py3-none-any.whl (25 kB)\n",
      "Installing collected packages: openvino-telemetry, numpy, openvino\n",
      "\n",
      "   ---------------------------------------- 0/3 [openvino-telemetry]\n",
      "  Attempting uninstall: numpy\n",
      "   ---------------------------------------- 0/3 [openvino-telemetry]\n",
      "    Found existing installation: numpy 2.3.2\n",
      "   ---------------------------------------- 0/3 [openvino-telemetry]\n",
      "   ------------- -------------------------- 1/3 [numpy]\n",
      "    Uninstalling numpy-2.3.2:\n",
      "   ------------- -------------------------- 1/3 [numpy]\n",
      "      Successfully uninstalled numpy-2.3.2\n",
      "   ------------- -------------------------- 1/3 [numpy]\n",
      "   ------------- -------------------------- 1/3 [numpy]\n",
      "   ------------- -------------------------- 1/3 [numpy]\n",
      "   ------------- -------------------------- 1/3 [numpy]\n",
      "   ------------- -------------------------- 1/3 [numpy]\n",
      "   ------------- -------------------------- 1/3 [numpy]\n",
      "   ------------- -------------------------- 1/3 [numpy]\n",
      "   ------------- -------------------------- 1/3 [numpy]\n",
      "   ------------- -------------------------- 1/3 [numpy]\n",
      "   ------------- -------------------------- 1/3 [numpy]\n",
      "   ------------- -------------------------- 1/3 [numpy]\n",
      "   ------------- -------------------------- 1/3 [numpy]\n",
      "   ------------- -------------------------- 1/3 [numpy]\n",
      "   ------------- -------------------------- 1/3 [numpy]\n",
      "   ------------- -------------------------- 1/3 [numpy]\n",
      "   ------------- -------------------------- 1/3 [numpy]\n",
      "   ------------- -------------------------- 1/3 [numpy]\n",
      "   ------------- -------------------------- 1/3 [numpy]\n",
      "   ------------- -------------------------- 1/3 [numpy]\n",
      "   ------------- -------------------------- 1/3 [numpy]\n",
      "   ------------- -------------------------- 1/3 [numpy]\n",
      "   ------------- -------------------------- 1/3 [numpy]\n",
      "   ------------- -------------------------- 1/3 [numpy]\n",
      "   ------------- -------------------------- 1/3 [numpy]\n",
      "   ------------- -------------------------- 1/3 [numpy]\n",
      "   ------------- -------------------------- 1/3 [numpy]\n",
      "   ------------- -------------------------- 1/3 [numpy]\n",
      "   ------------- -------------------------- 1/3 [numpy]\n",
      "   ------------- -------------------------- 1/3 [numpy]\n",
      "   ------------- -------------------------- 1/3 [numpy]\n",
      "   ------------- -------------------------- 1/3 [numpy]\n",
      "   ------------- -------------------------- 1/3 [numpy]\n",
      "   ------------- -------------------------- 1/3 [numpy]\n",
      "   ------------- -------------------------- 1/3 [numpy]\n",
      "   ------------- -------------------------- 1/3 [numpy]\n",
      "   ------------- -------------------------- 1/3 [numpy]\n",
      "   ------------- -------------------------- 1/3 [numpy]\n",
      "   ------------- -------------------------- 1/3 [numpy]\n",
      "   ------------- -------------------------- 1/3 [numpy]\n",
      "   -------------------------- ------------- 2/3 [openvino]\n",
      "   -------------------------- ------------- 2/3 [openvino]\n",
      "   -------------------------- ------------- 2/3 [openvino]\n",
      "   -------------------------- ------------- 2/3 [openvino]\n",
      "   -------------------------- ------------- 2/3 [openvino]\n",
      "   -------------------------- ------------- 2/3 [openvino]\n",
      "   -------------------------- ------------- 2/3 [openvino]\n",
      "   -------------------------- ------------- 2/3 [openvino]\n",
      "   -------------------------- ------------- 2/3 [openvino]\n",
      "   -------------------------- ------------- 2/3 [openvino]\n",
      "   -------------------------- ------------- 2/3 [openvino]\n",
      "   -------------------------- ------------- 2/3 [openvino]\n",
      "   -------------------------- ------------- 2/3 [openvino]\n",
      "   -------------------------- ------------- 2/3 [openvino]\n",
      "   -------------------------- ------------- 2/3 [openvino]\n",
      "   -------------------------- ------------- 2/3 [openvino]\n",
      "   -------------------------- ------------- 2/3 [openvino]\n",
      "   -------------------------- ------------- 2/3 [openvino]\n",
      "   -------------------------- ------------- 2/3 [openvino]\n",
      "   -------------------------- ------------- 2/3 [openvino]\n",
      "   ---------------------------------------- 3/3 [openvino]\n",
      "\n",
      "Successfully installed numpy-2.2.6 openvino-2025.3.0 openvino-telemetry-2025.2.0\n",
      "Note: you may need to restart the kernel to use updated packages.\n"
     ]
    }
   ],
   "source": [
    "pip install openvino"
   ]
  },
  {
   "cell_type": "code",
   "execution_count": 3,
   "id": "f5e588e9-5b50-48a5-97ca-32a563b0037e",
   "metadata": {},
   "outputs": [],
   "source": [
    "from openvino.runtime import Core"
   ]
  },
  {
   "cell_type": "code",
   "execution_count": 4,
   "id": "f2c688f1-4b1d-466a-a4f1-514b054ab5c7",
   "metadata": {},
   "outputs": [
    {
     "ename": "AttributeError",
     "evalue": "'Core' object has no attribute 'avaiable_devices'",
     "output_type": "error",
     "traceback": [
      "\u001b[31m---------------------------------------------------------------------------\u001b[39m",
      "\u001b[31mAttributeError\u001b[39m                            Traceback (most recent call last)",
      "\u001b[36mCell\u001b[39m\u001b[36m \u001b[39m\u001b[32mIn[4]\u001b[39m\u001b[32m, line 2\u001b[39m\n\u001b[32m      1\u001b[39m core = Core()\n\u001b[32m----> \u001b[39m\u001b[32m2\u001b[39m devices = \u001b[43mcore\u001b[49m\u001b[43m.\u001b[49m\u001b[43mavaiable_devices\u001b[49m\n\u001b[32m      3\u001b[39m \u001b[38;5;28mprint\u001b[39m(\u001b[33m\"\u001b[39m\u001b[33mAvailable devices\u001b[39m\u001b[33m\"\u001b[39m, devices)\n",
      "\u001b[31mAttributeError\u001b[39m: 'Core' object has no attribute 'avaiable_devices'"
     ]
    }
   ],
   "source": [
    "core = Core()\n",
    "devices = core.avaiable_devices\n",
    "print(\"Available devices\", devices)"
   ]
  },
  {
   "cell_type": "code",
   "execution_count": null,
   "id": "e561111b-7e74-4ead-963e-9c34dc297dd0",
   "metadata": {},
   "outputs": [],
   "source": []
  }
 ],
 "metadata": {
  "kernelspec": {
   "display_name": "Python 3",
   "language": "python",
   "name": "python3"
  },
  "language_info": {
   "codemirror_mode": {
    "name": "ipython",
    "version": 3
   },
   "file_extension": ".py",
   "mimetype": "text/x-python",
   "name": "python",
   "nbconvert_exporter": "python",
   "pygments_lexer": "ipython3",
   "version": "3.13.7"
  }
 },
 "nbformat": 4,
 "nbformat_minor": 5
}
