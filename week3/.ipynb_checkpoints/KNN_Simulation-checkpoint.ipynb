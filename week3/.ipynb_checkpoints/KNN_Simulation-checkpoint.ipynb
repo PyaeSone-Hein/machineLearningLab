{
  "nbformat": 4,
  "nbformat_minor": 0,
  "metadata": {
    "colab": {
      "provenance": []
    },
    "kernelspec": {
      "name": "python3",
      "display_name": "Python 3"
    },
    "language_info": {
      "name": "python"
    }
  },
  "cells": [
    {
      "cell_type": "code",
      "execution_count": null,
      "metadata": {
        "id": "n7PR6Lzvm4oV",
        "collapsed": true
      },
      "outputs": [],
      "source": [
        "!pip install luwiji\n"
      ]
    },
    {
      "cell_type": "code",
      "source": [
        "from luwiji.knn import illustration, demo"
      ],
      "metadata": {
        "id": "nh_0fpDxfUYS"
      },
      "execution_count": 2,
      "outputs": []
    },
    {
      "cell_type": "code",
      "source": [
        "demo.knn()"
      ],
      "metadata": {
        "id": "_4rwHf1nfm-x"
      },
      "execution_count": null,
      "outputs": []
    },
    {
      "cell_type": "code",
      "source": [
        "illustration.knn_distance"
      ],
      "metadata": {
        "id": "dRJROeOCfoeg"
      },
      "execution_count": null,
      "outputs": []
    }
  ]
}