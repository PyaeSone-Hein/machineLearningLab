{
  "nbformat": 4,
  "nbformat_minor": 0,
  "metadata": {
    "colab": {
      "provenance": []
    },
    "kernelspec": {
      "name": "python3",
      "display_name": "Python 3"
    },
    "language_info": {
      "name": "python"
    }
  },
  "cells": [
    {
      "cell_type": "markdown",
      "source": [
        "# **Lab Tasks**\n",
        "\n"
      ],
      "metadata": {
        "id": "usApWmmsFLqq"
      }
    },
    {
      "cell_type": "markdown",
      "source": [
        "**Setup (run first)**"
      ],
      "metadata": {
        "id": "IcL9wDfFF5yv"
      }
    },
    {
      "cell_type": "code",
      "source": [
        "import numpy as np\n",
        "import pandas as pd\n",
        "import matplotlib.pyplot as plt\n",
        "\n",
        "df = pd.read_csv(\"Human_Resources.csv\")\n",
        "len(df), df.columns.tolist()[:10]  # quick sanity check\n"
      ],
      "metadata": {
        "id": "YFLhe6otGCyq"
      },
      "execution_count": null,
      "outputs": []
    },
    {
      "cell_type": "markdown",
      "source": [
        "**Task 1 — Bar chart of Department counts**\n",
        "\n",
        "***Instruction: Show bar charts that compare department sizes***"
      ],
      "metadata": {
        "id": "TQUyC_sqFawF"
      }
    },
    {
      "cell_type": "markdown",
      "source": [
        "**Task 2 — Bar chart of BusinessTravel counts**\n",
        "\n",
        "***Instruction: Show Which travel pattern is most common***\n"
      ],
      "metadata": {
        "id": "gmFKhJRyJAbg"
      }
    },
    {
      "cell_type": "markdown",
      "source": [
        "\n",
        "**Task 3 — Bar chart of Gender counts**\n",
        "\n",
        "***Instruction: Show demographic based on gender***\n"
      ],
      "metadata": {
        "id": "cTsYNq4aJa7O"
      }
    },
    {
      "cell_type": "code",
      "source": [],
      "metadata": {
        "id": "14VPF8mXJgir"
      },
      "execution_count": null,
      "outputs": []
    }
  ]
}