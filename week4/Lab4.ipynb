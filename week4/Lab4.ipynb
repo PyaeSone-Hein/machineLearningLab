{
 "cells": [
  {
   "cell_type": "markdown",
   "metadata": {
    "id": "usApWmmsFLqq"
   },
   "source": [
    "# **Lab Tasks**\n",
    "\n"
   ]
  },
  {
   "cell_type": "markdown",
   "metadata": {
    "id": "IcL9wDfFF5yv"
   },
   "source": [
    "**Setup (run first)**"
   ]
  },
  {
   "cell_type": "code",
   "execution_count": null,
   "metadata": {
    "id": "YFLhe6otGCyq"
   },
   "outputs": [],
   "source": [
    "import numpy as np\n",
    "import pandas as pd\n",
    "import matplotlib.pyplot as plt\n",
    "\n",
    "df = pd.read_csv(\"Human_Resources.csv\")\n",
    "len(df), df.columns.tolist()[:10]  # quick sanity check"
   ]
  },
  {
   "cell_type": "markdown",
   "metadata": {
    "id": "TQUyC_sqFawF"
   },
   "source": [
    "**Task 1 — Bar chart of Department counts**\n",
    "\n",
    "***Instruction: Show bar charts that compare department sizes***"
   ]
  },
  {
   "cell_type": "code",
   "execution_count": null,
   "metadata": {},
   "outputs": [],
   "source": [
    "dept_counts = df['Department'].value_counts()\n",
    "plt.figure(figsize=(6,6))\n",
    "bars = dept_counts.plot(kind='bar', color='red')\n",
    "plt.title(\"Department Sizes\")\n",
    "plt.xlabel(\"Department\")\n",
    "plt.ylabel(\"Count\");"
   ]
  },
  {
   "cell_type": "markdown",
   "metadata": {
    "id": "gmFKhJRyJAbg"
   },
   "source": [
    "**Task 2 — Bar chart of BusinessTravel counts**\n",
    "\n",
    "***Instruction: Show Which travel pattern is most common***\n"
   ]
  },
  {
   "cell_type": "code",
   "execution_count": null,
   "metadata": {},
   "outputs": [],
   "source": [
    "travel_counts = df['BusinessTravel'].value_counts()\n",
    "plt.figure(figsize=(6,6))\n",
    "bars = travel_counts.plot(kind='bar', color='black')\n",
    "plt.title(\"Business Travel Frequency\")\n",
    "plt.xlabel(\"Business Travel\")\n",
    "plt.ylabel(\"Count\");"
   ]
  },
  {
   "cell_type": "markdown",
   "metadata": {
    "id": "cTsYNq4aJa7O"
   },
   "source": [
    "\n",
    "**Task 3 — Bar chart of Gender counts**\n",
    "\n",
    "***Instruction: Show demographic based on gender***\n"
   ]
  },
  {
   "cell_type": "code",
   "execution_count": null,
   "metadata": {},
   "outputs": [],
   "source": [
    "gender_counts = df['Gender'].value_counts()\n",
    "plt.figure(figsize=(6,6))\n",
    "bars = gender_counts.plot(kind='bar', color='blue')\n",
    "plt.title(\"Gender Demographics\")\n",
    "plt.xlabel(\"Gender\")\n",
    "plt.ylabel(\"Count\");"
   ]
  },
  {
   "cell_type": "code",
   "execution_count": null,
   "metadata": {},
   "outputs": [],
   "source": []
  }
 ],
 "metadata": {
  "colab": {
   "provenance": []
  },
  "kernelspec": {
   "display_name": "Python 3",
   "language": "python",
   "name": "python3"
  },
  "language_info": {
   "codemirror_mode": {
    "name": "ipython",
    "version": 3
   },
   "file_extension": ".py",
   "mimetype": "text/x-python",
   "name": "python",
   "nbconvert_exporter": "python",
   "pygments_lexer": "ipython3",
   "version": "3.13.7"
  }
 },
 "nbformat": 4,
 "nbformat_minor": 4
}
